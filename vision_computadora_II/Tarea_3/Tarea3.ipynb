{
  "nbformat": 4,
  "nbformat_minor": 0,
  "metadata": {
    "colab": {
      "name": "Tarea3.ipynb",
      "provenance": [],
      "collapsed_sections": []
    },
    "kernelspec": {
      "name": "python3",
      "display_name": "Python 3"
    },
    "language_info": {
      "name": "python"
    },
    "accelerator": "GPU",
    "gpuClass": "standard",
    "widgets": {
      "application/vnd.jupyter.widget-state+json": {
        "9fc43f5b1de544a8ba4752cdebe998aa": {
          "model_module": "@jupyter-widgets/controls",
          "model_name": "HBoxModel",
          "model_module_version": "1.5.0",
          "state": {
            "_dom_classes": [],
            "_model_module": "@jupyter-widgets/controls",
            "_model_module_version": "1.5.0",
            "_model_name": "HBoxModel",
            "_view_count": null,
            "_view_module": "@jupyter-widgets/controls",
            "_view_module_version": "1.5.0",
            "_view_name": "HBoxView",
            "box_style": "",
            "children": [
              "IPY_MODEL_a0aed3dbe42841e68145ba41a7fd15d0",
              "IPY_MODEL_808c5869b7c24c4989dd0ed2b808698a",
              "IPY_MODEL_21b41cf12306438e9b8c27640c02776f"
            ],
            "layout": "IPY_MODEL_07825cf220354db89b068d81a1fc80f1"
          }
        },
        "a0aed3dbe42841e68145ba41a7fd15d0": {
          "model_module": "@jupyter-widgets/controls",
          "model_name": "HTMLModel",
          "model_module_version": "1.5.0",
          "state": {
            "_dom_classes": [],
            "_model_module": "@jupyter-widgets/controls",
            "_model_module_version": "1.5.0",
            "_model_name": "HTMLModel",
            "_view_count": null,
            "_view_module": "@jupyter-widgets/controls",
            "_view_module_version": "1.5.0",
            "_view_name": "HTMLView",
            "description": "",
            "description_tooltip": null,
            "layout": "IPY_MODEL_b1bd6561a08e4901aaf35f5febe1aa05",
            "placeholder": "​",
            "style": "IPY_MODEL_7f7650a5289f47ad8cd4042a25c72a4a",
            "value": ""
          }
        },
        "808c5869b7c24c4989dd0ed2b808698a": {
          "model_module": "@jupyter-widgets/controls",
          "model_name": "FloatProgressModel",
          "model_module_version": "1.5.0",
          "state": {
            "_dom_classes": [],
            "_model_module": "@jupyter-widgets/controls",
            "_model_module_version": "1.5.0",
            "_model_name": "FloatProgressModel",
            "_view_count": null,
            "_view_module": "@jupyter-widgets/controls",
            "_view_module_version": "1.5.0",
            "_view_name": "ProgressView",
            "bar_style": "success",
            "description": "",
            "description_tooltip": null,
            "layout": "IPY_MODEL_3f34988d22b940e38b2b6ec4ee178a51",
            "max": 170498071,
            "min": 0,
            "orientation": "horizontal",
            "style": "IPY_MODEL_fbe0a0291a1343bebc895eff0dc89a10",
            "value": 170498071
          }
        },
        "21b41cf12306438e9b8c27640c02776f": {
          "model_module": "@jupyter-widgets/controls",
          "model_name": "HTMLModel",
          "model_module_version": "1.5.0",
          "state": {
            "_dom_classes": [],
            "_model_module": "@jupyter-widgets/controls",
            "_model_module_version": "1.5.0",
            "_model_name": "HTMLModel",
            "_view_count": null,
            "_view_module": "@jupyter-widgets/controls",
            "_view_module_version": "1.5.0",
            "_view_name": "HTMLView",
            "description": "",
            "description_tooltip": null,
            "layout": "IPY_MODEL_131daf474b8c4fb1af36b4da9a5c00a7",
            "placeholder": "​",
            "style": "IPY_MODEL_a234aa89e17e44428749284526da2ca4",
            "value": " 170499072/? [00:06&lt;00:00, 30158151.11it/s]"
          }
        },
        "07825cf220354db89b068d81a1fc80f1": {
          "model_module": "@jupyter-widgets/base",
          "model_name": "LayoutModel",
          "model_module_version": "1.2.0",
          "state": {
            "_model_module": "@jupyter-widgets/base",
            "_model_module_version": "1.2.0",
            "_model_name": "LayoutModel",
            "_view_count": null,
            "_view_module": "@jupyter-widgets/base",
            "_view_module_version": "1.2.0",
            "_view_name": "LayoutView",
            "align_content": null,
            "align_items": null,
            "align_self": null,
            "border": null,
            "bottom": null,
            "display": null,
            "flex": null,
            "flex_flow": null,
            "grid_area": null,
            "grid_auto_columns": null,
            "grid_auto_flow": null,
            "grid_auto_rows": null,
            "grid_column": null,
            "grid_gap": null,
            "grid_row": null,
            "grid_template_areas": null,
            "grid_template_columns": null,
            "grid_template_rows": null,
            "height": null,
            "justify_content": null,
            "justify_items": null,
            "left": null,
            "margin": null,
            "max_height": null,
            "max_width": null,
            "min_height": null,
            "min_width": null,
            "object_fit": null,
            "object_position": null,
            "order": null,
            "overflow": null,
            "overflow_x": null,
            "overflow_y": null,
            "padding": null,
            "right": null,
            "top": null,
            "visibility": null,
            "width": null
          }
        },
        "b1bd6561a08e4901aaf35f5febe1aa05": {
          "model_module": "@jupyter-widgets/base",
          "model_name": "LayoutModel",
          "model_module_version": "1.2.0",
          "state": {
            "_model_module": "@jupyter-widgets/base",
            "_model_module_version": "1.2.0",
            "_model_name": "LayoutModel",
            "_view_count": null,
            "_view_module": "@jupyter-widgets/base",
            "_view_module_version": "1.2.0",
            "_view_name": "LayoutView",
            "align_content": null,
            "align_items": null,
            "align_self": null,
            "border": null,
            "bottom": null,
            "display": null,
            "flex": null,
            "flex_flow": null,
            "grid_area": null,
            "grid_auto_columns": null,
            "grid_auto_flow": null,
            "grid_auto_rows": null,
            "grid_column": null,
            "grid_gap": null,
            "grid_row": null,
            "grid_template_areas": null,
            "grid_template_columns": null,
            "grid_template_rows": null,
            "height": null,
            "justify_content": null,
            "justify_items": null,
            "left": null,
            "margin": null,
            "max_height": null,
            "max_width": null,
            "min_height": null,
            "min_width": null,
            "object_fit": null,
            "object_position": null,
            "order": null,
            "overflow": null,
            "overflow_x": null,
            "overflow_y": null,
            "padding": null,
            "right": null,
            "top": null,
            "visibility": null,
            "width": null
          }
        },
        "7f7650a5289f47ad8cd4042a25c72a4a": {
          "model_module": "@jupyter-widgets/controls",
          "model_name": "DescriptionStyleModel",
          "model_module_version": "1.5.0",
          "state": {
            "_model_module": "@jupyter-widgets/controls",
            "_model_module_version": "1.5.0",
            "_model_name": "DescriptionStyleModel",
            "_view_count": null,
            "_view_module": "@jupyter-widgets/base",
            "_view_module_version": "1.2.0",
            "_view_name": "StyleView",
            "description_width": ""
          }
        },
        "3f34988d22b940e38b2b6ec4ee178a51": {
          "model_module": "@jupyter-widgets/base",
          "model_name": "LayoutModel",
          "model_module_version": "1.2.0",
          "state": {
            "_model_module": "@jupyter-widgets/base",
            "_model_module_version": "1.2.0",
            "_model_name": "LayoutModel",
            "_view_count": null,
            "_view_module": "@jupyter-widgets/base",
            "_view_module_version": "1.2.0",
            "_view_name": "LayoutView",
            "align_content": null,
            "align_items": null,
            "align_self": null,
            "border": null,
            "bottom": null,
            "display": null,
            "flex": null,
            "flex_flow": null,
            "grid_area": null,
            "grid_auto_columns": null,
            "grid_auto_flow": null,
            "grid_auto_rows": null,
            "grid_column": null,
            "grid_gap": null,
            "grid_row": null,
            "grid_template_areas": null,
            "grid_template_columns": null,
            "grid_template_rows": null,
            "height": null,
            "justify_content": null,
            "justify_items": null,
            "left": null,
            "margin": null,
            "max_height": null,
            "max_width": null,
            "min_height": null,
            "min_width": null,
            "object_fit": null,
            "object_position": null,
            "order": null,
            "overflow": null,
            "overflow_x": null,
            "overflow_y": null,
            "padding": null,
            "right": null,
            "top": null,
            "visibility": null,
            "width": null
          }
        },
        "fbe0a0291a1343bebc895eff0dc89a10": {
          "model_module": "@jupyter-widgets/controls",
          "model_name": "ProgressStyleModel",
          "model_module_version": "1.5.0",
          "state": {
            "_model_module": "@jupyter-widgets/controls",
            "_model_module_version": "1.5.0",
            "_model_name": "ProgressStyleModel",
            "_view_count": null,
            "_view_module": "@jupyter-widgets/base",
            "_view_module_version": "1.2.0",
            "_view_name": "StyleView",
            "bar_color": null,
            "description_width": ""
          }
        },
        "131daf474b8c4fb1af36b4da9a5c00a7": {
          "model_module": "@jupyter-widgets/base",
          "model_name": "LayoutModel",
          "model_module_version": "1.2.0",
          "state": {
            "_model_module": "@jupyter-widgets/base",
            "_model_module_version": "1.2.0",
            "_model_name": "LayoutModel",
            "_view_count": null,
            "_view_module": "@jupyter-widgets/base",
            "_view_module_version": "1.2.0",
            "_view_name": "LayoutView",
            "align_content": null,
            "align_items": null,
            "align_self": null,
            "border": null,
            "bottom": null,
            "display": null,
            "flex": null,
            "flex_flow": null,
            "grid_area": null,
            "grid_auto_columns": null,
            "grid_auto_flow": null,
            "grid_auto_rows": null,
            "grid_column": null,
            "grid_gap": null,
            "grid_row": null,
            "grid_template_areas": null,
            "grid_template_columns": null,
            "grid_template_rows": null,
            "height": null,
            "justify_content": null,
            "justify_items": null,
            "left": null,
            "margin": null,
            "max_height": null,
            "max_width": null,
            "min_height": null,
            "min_width": null,
            "object_fit": null,
            "object_position": null,
            "order": null,
            "overflow": null,
            "overflow_x": null,
            "overflow_y": null,
            "padding": null,
            "right": null,
            "top": null,
            "visibility": null,
            "width": null
          }
        },
        "a234aa89e17e44428749284526da2ca4": {
          "model_module": "@jupyter-widgets/controls",
          "model_name": "DescriptionStyleModel",
          "model_module_version": "1.5.0",
          "state": {
            "_model_module": "@jupyter-widgets/controls",
            "_model_module_version": "1.5.0",
            "_model_name": "DescriptionStyleModel",
            "_view_count": null,
            "_view_module": "@jupyter-widgets/base",
            "_view_module_version": "1.2.0",
            "_view_name": "StyleView",
            "description_width": ""
          }
        }
      }
    }
  },
  "cells": [
    {
      "cell_type": "markdown",
      "source": [
        "Tarea 3 - Gabriel García"
      ],
      "metadata": {
        "id": "XCNKH4cYcwBR"
      }
    },
    {
      "cell_type": "code",
      "source": [
        "import numpy as np\n",
        "import matplotlib.pyplot as plt\n",
        "\n",
        "import torch\n",
        "import torch.nn.functional as F\n",
        "import torchvision\n",
        "import torchsummary"
      ],
      "metadata": {
        "id": "F3FDC8H7cz3x"
      },
      "execution_count": null,
      "outputs": []
    },
    {
      "cell_type": "code",
      "source": [
        "!pip install torchmetrics\n",
        "import torchmetrics"
      ],
      "metadata": {
        "colab": {
          "base_uri": "https://localhost:8080/"
        },
        "id": "zFwT2VUbc46x",
        "outputId": "c9fe9c44-c372-4647-c136-b2f8b3c09e17"
      },
      "execution_count": null,
      "outputs": [
        {
          "output_type": "stream",
          "name": "stdout",
          "text": [
            "Looking in indexes: https://pypi.org/simple, https://us-python.pkg.dev/colab-wheels/public/simple/\n",
            "Collecting torchmetrics\n",
            "  Downloading torchmetrics-0.9.1-py3-none-any.whl (419 kB)\n",
            "\u001b[K     |████████████████████████████████| 419 kB 14.8 MB/s \n",
            "\u001b[?25hRequirement already satisfied: typing-extensions in /usr/local/lib/python3.7/dist-packages (from torchmetrics) (4.1.1)\n",
            "Requirement already satisfied: numpy>=1.17.2 in /usr/local/lib/python3.7/dist-packages (from torchmetrics) (1.21.6)\n",
            "Requirement already satisfied: packaging in /usr/local/lib/python3.7/dist-packages (from torchmetrics) (21.3)\n",
            "Requirement already satisfied: torch>=1.3.1 in /usr/local/lib/python3.7/dist-packages (from torchmetrics) (1.11.0+cu113)\n",
            "Requirement already satisfied: pyparsing!=3.0.5,>=2.0.2 in /usr/local/lib/python3.7/dist-packages (from packaging->torchmetrics) (3.0.9)\n",
            "Installing collected packages: torchmetrics\n",
            "Successfully installed torchmetrics-0.9.1\n"
          ]
        }
      ]
    },
    {
      "cell_type": "code",
      "source": [
        "train_set = torchvision.datasets.CIFAR10(root='./data', train=True, download=True)\n",
        "test_set = torchvision.datasets.CIFAR10(root='./data', train=False, download=True)\n",
        "\n",
        "print(\"### Descripción del conjunto de entrenamiento ###\")\n",
        "print(train_set)\n",
        "print(\"### Dimensiones de un ejemplo del dataset ###\")\n",
        "print(np.shape(train_set[0][0]))\n",
        "print(\"### Descripción del conjunto de evaluación ###\")\n",
        "print(test_set)\n",
        "\n",
        "# Ploteo algunas imagenes del dataset y sus etiquetas\n",
        "for i in range(9):\n",
        "  image, label = train_set[i]\n",
        "  plt.subplot(331 + i)\n",
        "  plt.imshow(image, cmap=plt.get_cmap('gray'))\n",
        "  print(\"Label de la imágen {}: {}\".format(i, label))\n",
        "\n",
        "plt.show()"
      ],
      "metadata": {
        "colab": {
          "base_uri": "https://localhost:8080/",
          "height": 717,
          "referenced_widgets": [
            "9fc43f5b1de544a8ba4752cdebe998aa",
            "a0aed3dbe42841e68145ba41a7fd15d0",
            "808c5869b7c24c4989dd0ed2b808698a",
            "21b41cf12306438e9b8c27640c02776f",
            "07825cf220354db89b068d81a1fc80f1",
            "b1bd6561a08e4901aaf35f5febe1aa05",
            "7f7650a5289f47ad8cd4042a25c72a4a",
            "3f34988d22b940e38b2b6ec4ee178a51",
            "fbe0a0291a1343bebc895eff0dc89a10",
            "131daf474b8c4fb1af36b4da9a5c00a7",
            "a234aa89e17e44428749284526da2ca4"
          ]
        },
        "id": "SV_Ng838c75_",
        "outputId": "2e600522-8995-47cd-d30d-0cd311d0d3a6"
      },
      "execution_count": null,
      "outputs": [
        {
          "output_type": "stream",
          "name": "stdout",
          "text": [
            "Downloading https://www.cs.toronto.edu/~kriz/cifar-10-python.tar.gz to ./data/cifar-10-python.tar.gz\n"
          ]
        },
        {
          "output_type": "display_data",
          "data": {
            "text/plain": [
              "  0%|          | 0/170498071 [00:00<?, ?it/s]"
            ],
            "application/vnd.jupyter.widget-view+json": {
              "version_major": 2,
              "version_minor": 0,
              "model_id": "9fc43f5b1de544a8ba4752cdebe998aa"
            }
          },
          "metadata": {}
        },
        {
          "output_type": "stream",
          "name": "stdout",
          "text": [
            "Extracting ./data/cifar-10-python.tar.gz to ./data\n",
            "Files already downloaded and verified\n",
            "### Descripción del conjunto de entrenamiento ###\n",
            "Dataset CIFAR10\n",
            "    Number of datapoints: 50000\n",
            "    Root location: ./data\n",
            "    Split: Train\n",
            "### Dimensiones de un ejemplo del dataset ###\n",
            "(32, 32, 3)\n",
            "### Descripción del conjunto de evaluación ###\n",
            "Dataset CIFAR10\n",
            "    Number of datapoints: 10000\n",
            "    Root location: ./data\n",
            "    Split: Test\n",
            "Label de la imágen 0: 6\n",
            "Label de la imágen 1: 9\n",
            "Label de la imágen 2: 9\n",
            "Label de la imágen 3: 4\n",
            "Label de la imágen 4: 1\n",
            "Label de la imágen 5: 1\n",
            "Label de la imágen 6: 2\n",
            "Label de la imágen 7: 7\n",
            "Label de la imágen 8: 8\n"
          ]
        },
        {
          "output_type": "display_data",
          "data": {
            "text/plain": [
              "<Figure size 432x288 with 9 Axes>"
            ],
            "image/png": "[encoded data removed]"
          },
          "metadata": {
            "needs_background": "light"
          }
        }
      ]
    },
    {
      "cell_type": "code",
      "source": [
        "data_transforms = torchvision.transforms.Compose([\n",
        "                    torchvision.transforms.Resize(size=(224, 224)),\n",
        "                    torchvision.transforms.ToTensor(),\n",
        "                    torchvision.transforms.Normalize(mean=[0.485, 0.456, 0.406], std=[0.229, 0.224, 0.225])\n",
        "                  ])\n",
        "\n",
        "train_set = torchvision.datasets.CIFAR10(root='./data', train=True, download=True, transform = data_transforms)\n",
        "test_set = torchvision.datasets.CIFAR10(root='./data', train=False, download=True, transform = data_transforms)"
      ],
      "metadata": {
        "colab": {
          "base_uri": "https://localhost:8080/"
        },
        "id": "CtbOToJIdARu",
        "outputId": "d0bc72e0-2c02-430f-c088-2cde6cd2687a"
      },
      "execution_count": null,
      "outputs": [
        {
          "output_type": "stream",
          "name": "stdout",
          "text": [
            "Files already downloaded and verified\n",
            "Files already downloaded and verified\n"
          ]
        }
      ]
    },
    {
      "cell_type": "code",
      "source": [
        "valid_set_size = 5000\n",
        "\n",
        "train_set, valid_set = torch.utils.data.random_split(train_set, [len(train_set) - valid_set_size, valid_set_size])\n",
        "\n",
        "print(\"Tamaño del conjunto de entrenamiento: {}\".format(len(train_set)))\n",
        "print(\"Tamaño del conjunto de validación: {}\".format(len(valid_set)))"
      ],
      "metadata": {
        "colab": {
          "base_uri": "https://localhost:8080/"
        },
        "id": "b9TbTyZbdEkH",
        "outputId": "e958e82b-d7db-42e8-ffd0-a1b8cd1f0623"
      },
      "execution_count": null,
      "outputs": [
        {
          "output_type": "stream",
          "name": "stdout",
          "text": [
            "Tamaño del conjunto de entrenamiento: 45000\n",
            "Tamaño del conjunto de validación: 5000\n"
          ]
        }
      ]
    },
    {
      "cell_type": "code",
      "source": [
        "\n",
        "train_loader = torch.utils.data.DataLoader(train_set, batch_size=32, shuffle=True)\n",
        "valid_loader = torch.utils.data.DataLoader(valid_set, batch_size=32, shuffle=True)\n",
        "test_loader = torch.utils.data.DataLoader(test_set, batch_size=32, shuffle=True)"
      ],
      "metadata": {
        "id": "HBZw7hJ0dHmj"
      },
      "execution_count": null,
      "outputs": []
    },
    {
      "cell_type": "code",
      "source": [
        "# Carga de modelo base\n",
        "\n",
        "vgg11_model = torchvision.models.vgg11(pretr ained=True)\n",
        "\n",
        "vgg11_model.to(\"cuda\")\n",
        "\n",
        "torchsummary.summary(vgg11_model, input_size=(3, 224, 224))\n",
        "vgg11_model.modules"
      ],
      "metadata": {
        "colab": {
          "base_uri": "https://localhost:8080/"
        },
        "id": "dsizEXgldeTs",
        "outputId": "1fe504af-ef84-4e59-a51f-68febbd585b9"
      },
      "execution_count": null,
      "outputs": [
        {
          "output_type": "stream",
          "name": "stdout",
          "text": [
            "----------------------------------------------------------------\n",
            "        Layer (type)               Output Shape         Param #\n",
            "================================================================\n",
            "            Conv2d-1         [-1, 64, 224, 224]           1,792\n",
            "              ReLU-2         [-1, 64, 224, 224]               0\n",
            "         MaxPool2d-3         [-1, 64, 112, 112]               0\n",
            "            Conv2d-4        [-1, 128, 112, 112]          73,856\n",
            "              ReLU-5        [-1, 128, 112, 112]               0\n",
            "         MaxPool2d-6          [-1, 128, 56, 56]               0\n",
            "            Conv2d-7          [-1, 256, 56, 56]         295,168\n",
            "              ReLU-8          [-1, 256, 56, 56]               0\n",
            "            Conv2d-9          [-1, 256, 56, 56]         590,080\n",
            "             ReLU-10          [-1, 256, 56, 56]               0\n",
            "        MaxPool2d-11          [-1, 256, 28, 28]               0\n",
            "           Conv2d-12          [-1, 512, 28, 28]       1,180,160\n",
            "             ReLU-13          [-1, 512, 28, 28]               0\n",
            "           Conv2d-14          [-1, 512, 28, 28]       2,359,808\n",
            "             ReLU-15          [-1, 512, 28, 28]               0\n",
            "        MaxPool2d-16          [-1, 512, 14, 14]               0\n",
            "           Conv2d-17          [-1, 512, 14, 14]       2,359,808\n",
            "             ReLU-18          [-1, 512, 14, 14]               0\n",
            "           Conv2d-19          [-1, 512, 14, 14]       2,359,808\n",
            "             ReLU-20          [-1, 512, 14, 14]               0\n",
            "        MaxPool2d-21            [-1, 512, 7, 7]               0\n",
            "AdaptiveAvgPool2d-22            [-1, 512, 7, 7]               0\n",
            "           Linear-23                 [-1, 4096]     102,764,544\n",
            "             ReLU-24                 [-1, 4096]               0\n",
            "          Dropout-25                 [-1, 4096]               0\n",
            "           Linear-26                 [-1, 4096]      16,781,312\n",
            "             ReLU-27                 [-1, 4096]               0\n",
            "          Dropout-28                 [-1, 4096]               0\n",
            "           Linear-29                 [-1, 1000]       4,097,000\n",
            "================================================================\n",
            "Total params: 132,863,336\n",
            "Trainable params: 132,863,336\n",
            "Non-trainable params: 0\n",
            "----------------------------------------------------------------\n",
            "Input size (MB): 0.57\n",
            "Forward/backward pass size (MB): 125.37\n",
            "Params size (MB): 506.83\n",
            "Estimated Total Size (MB): 632.78\n",
            "----------------------------------------------------------------\n"
          ]
        },
        {
          "output_type": "execute_result",
          "data": {
            "text/plain": [
              "<bound method Module.modules of VGG(\n",
              "  (features): Sequential(\n",
              "    (0): Conv2d(3, 64, kernel_size=(3, 3), stride=(1, 1), padding=(1, 1))\n",
              "    (1): ReLU(inplace=True)\n",
              "    (2): MaxPool2d(kernel_size=2, stride=2, padding=0, dilation=1, ceil_mode=False)\n",
              "    (3): Conv2d(64, 128, kernel_size=(3, 3), stride=(1, 1), padding=(1, 1))\n",
              "    (4): ReLU(inplace=True)\n",
              "    (5): MaxPool2d(kernel_size=2, stride=2, padding=0, dilation=1, ceil_mode=False)\n",
              "    (6): Conv2d(128, 256, kernel_size=(3, 3), stride=(1, 1), padding=(1, 1))\n",
              "    (7): ReLU(inplace=True)\n",
              "    (8): Conv2d(256, 256, kernel_size=(3, 3), stride=(1, 1), padding=(1, 1))\n",
              "    (9): ReLU(inplace=True)\n",
              "    (10): MaxPool2d(kernel_size=2, stride=2, padding=0, dilation=1, ceil_mode=False)\n",
              "    (11): Conv2d(256, 512, kernel_size=(3, 3), stride=(1, 1), padding=(1, 1))\n",
              "    (12): ReLU(inplace=True)\n",
              "    (13): Conv2d(512, 512, kernel_size=(3, 3), stride=(1, 1), padding=(1, 1))\n",
              "    (14): ReLU(inplace=True)\n",
              "    (15): MaxPool2d(kernel_size=2, stride=2, padding=0, dilation=1, ceil_mode=False)\n",
              "    (16): Conv2d(512, 512, kernel_size=(3, 3), stride=(1, 1), padding=(1, 1))\n",
              "    (17): ReLU(inplace=True)\n",
              "    (18): Conv2d(512, 512, kernel_size=(3, 3), stride=(1, 1), padding=(1, 1))\n",
              "    (19): ReLU(inplace=True)\n",
              "    (20): MaxPool2d(kernel_size=2, stride=2, padding=0, dilation=1, ceil_mode=False)\n",
              "  )\n",
              "  (avgpool): AdaptiveAvgPool2d(output_size=(7, 7))\n",
              "  (classifier): Sequential(\n",
              "    (0): Linear(in_features=25088, out_features=4096, bias=True)\n",
              "    (1): ReLU(inplace=True)\n",
              "    (2): Dropout(p=0.5, inplace=False)\n",
              "    (3): Linear(in_features=4096, out_features=4096, bias=True)\n",
              "    (4): ReLU(inplace=True)\n",
              "    (5): Dropout(p=0.5, inplace=False)\n",
              "    (6): Linear(in_features=4096, out_features=1000, bias=True)\n",
              "  )\n",
              ")>"
            ]
          },
          "metadata": {},
          "execution_count": 39
        }
      ]
    },
    {
      "cell_type": "code",
      "source": [
        "# Congelamos parámetros\n",
        "for param in vgg11_model.parameters():\n",
        "    param.requires_grad = False"
      ],
      "metadata": {
        "id": "WmEO0Aaps37I"
      },
      "execution_count": null,
      "outputs": []
    },
    {
      "cell_type": "code",
      "source": [
        "# Cambiamos última capa\n",
        "last_layer_in_features = vgg11_model.classifier[-1].in_features\n",
        "# Asignamos 10 salidas a la última capa del convnext_tiny. \n",
        "vgg11_model.classifier[-1] = torch.nn.Linear(in_features=last_layer_in_features, out_features=10)"
      ],
      "metadata": {
        "id": "2tGZNs_rioru"
      },
      "execution_count": null,
      "outputs": []
    },
    {
      "cell_type": "code",
      "source": [
        "# Optimizador, agregando un cero más al learning rate\n",
        "\n",
        "optimizer_ft = torch.optim.Adam(vgg11_model.parameters(), lr=0.0001)\n",
        "\n",
        "criterion = torch.nn.CrossEntropyLoss()"
      ],
      "metadata": {
        "id": "j9_CohNNwWpF"
      },
      "execution_count": null,
      "outputs": []
    },
    {
      "cell_type": "code",
      "source": [
        "def train(model, criterion, optimizer, train_loader, valid_loader, epochs):\n",
        "\n",
        "    accuracy_metric = torchmetrics.Accuracy()\n",
        "\n",
        "    if torch.cuda.is_available():\n",
        "        model.to(\"cuda\")\n",
        "        accuracy_metric.to(\"cuda\")\n",
        "\n",
        "    train_loss = []\n",
        "    train_acc = []\n",
        "    valid_loss = []\n",
        "    valid_acc = []\n",
        "\n",
        "    for epoch in range(epochs):\n",
        "\n",
        "        # Pongo el modelo en modo entrenamiento\n",
        "        model.train()\n",
        "\n",
        "        epoch_train_loss = 0.0\n",
        "        epoch_train_accuracy = 0.0\n",
        "\n",
        "        for train_data, train_target in train_loader:\n",
        "            \n",
        "            if torch.cuda.is_available():\n",
        "                train_data = train_data.to(\"cuda\")\n",
        "                train_target = train_target.to(\"cuda\")\n",
        "\n",
        "            optimizer.zero_grad()\n",
        "            output = model(train_data)\n",
        "            loss = criterion(output, train_target)\n",
        "            epoch_train_loss += loss.item()\n",
        "            loss.backward()\n",
        "            optimizer.step()\n",
        "\n",
        "            accuracy = accuracy_metric(output, train_target)\n",
        "            epoch_train_accuracy += accuracy.item()\n",
        "\n",
        "        epoch_train_loss = epoch_train_loss / len(train_loader)\n",
        "        epoch_train_accuracy = epoch_train_accuracy / len(train_loader)\n",
        "        train_loss.append(epoch_train_loss)\n",
        "        train_acc.append(epoch_train_accuracy)\n",
        "\n",
        "        # Pongo el modelo en modo testeo\n",
        "        model.eval()\n",
        "\n",
        "        epoch_valid_loss = 0.0\n",
        "        epoch_valid_accuracy = 0.0\n",
        "\n",
        "        for valid_data, valid_target in valid_loader:\n",
        "            if torch.cuda.is_available():\n",
        "                valid_data = valid_data.to(\"cuda\")\n",
        "                valid_target = valid_target.to(\"cuda\")\n",
        "\n",
        "            output = model(valid_data)\n",
        "            epoch_valid_loss += criterion(output, valid_target).item()\n",
        "            epoch_valid_accuracy += accuracy_metric(output, valid_target).item()\n",
        "            \n",
        "        epoch_valid_loss = epoch_valid_loss / len(valid_loader)\n",
        "        epoch_valid_accuracy = epoch_valid_accuracy / len(valid_loader)\n",
        "        valid_loss.append(epoch_valid_loss)\n",
        "        valid_acc.append(epoch_valid_accuracy)\n",
        "\n",
        "        print(\"Epoch: {}/{} - Train loss {:.6f} - Train Accuracy {:.6f} - Valid Loss {:.6f} - Valid Accuracy {:.6f}\".format(\n",
        "        epoch+1, epochs, epoch_train_loss, epoch_train_accuracy, epoch_valid_loss, epoch_valid_accuracy))\n",
        "\n",
        "    history = {}\n",
        "    history[\"train_loss\"] = train_loss\n",
        "    history[\"train_acc\"] = train_acc\n",
        "    history[\"valid_loss\"] = valid_loss\n",
        "    history[\"valid_acc\"] = valid_acc\n",
        "\n",
        "    return model, history"
      ],
      "metadata": {
        "id": "Zx2TmoiTwlf8"
      },
      "execution_count": null,
      "outputs": []
    },
    {
      "cell_type": "code",
      "source": [
        "result_model, history = train(vgg11_model, criterion, optimizer_ft, train_loader, valid_loader, 10)\n"
      ],
      "metadata": {
        "colab": {
          "base_uri": "https://localhost:8080/"
        },
        "id": "rXj-xRttxRfJ",
        "outputId": "0956a1ed-4246-4539-f734-77caf59136b8"
      },
      "execution_count": null,
      "outputs": [
        {
          "output_type": "stream",
          "name": "stdout",
          "text": [
            "Epoch: 1/10 - Train loss 0.876913 - Train Accuracy 0.717795 - Valid Loss 0.603133 - Valid Accuracy 0.804936\n",
            "Epoch: 2/10 - Train loss 0.621767 - Train Accuracy 0.785648 - Valid Loss 0.539203 - Valid Accuracy 0.819467\n",
            "Epoch: 3/10 - Train loss 0.584207 - Train Accuracy 0.795642 - Valid Loss 0.510996 - Valid Accuracy 0.829021\n",
            "Epoch: 4/10 - Train loss 0.562588 - Train Accuracy 0.802061 - Valid Loss 0.487167 - Valid Accuracy 0.839570\n",
            "Epoch: 5/10 - Train loss 0.552616 - Train Accuracy 0.805126 - Valid Loss 0.479940 - Valid Accuracy 0.838774\n",
            "Epoch: 6/10 - Train loss 0.542913 - Train Accuracy 0.807547 - Valid Loss 0.472937 - Valid Accuracy 0.840764\n",
            "Epoch: 7/10 - Train loss 0.533334 - Train Accuracy 0.811256 - Valid Loss 0.467194 - Valid Accuracy 0.839769\n",
            "Epoch: 8/10 - Train loss 0.529421 - Train Accuracy 0.811389 - Valid Loss 0.457313 - Valid Accuracy 0.847532\n",
            "Epoch: 9/10 - Train loss 0.524602 - Train Accuracy 0.813988 - Valid Loss 0.459568 - Valid Accuracy 0.843551\n",
            "Epoch: 10/10 - Train loss 0.520148 - Train Accuracy 0.816520 - Valid Loss 0.449180 - Valid Accuracy 0.850916\n"
          ]
        }
      ]
    },
    {
      "cell_type": "code",
      "source": [
        "plt.plot(history[\"train_loss\"])\n",
        "plt.plot(history[\"valid_loss\"])\n",
        "plt.title(\"Error de entrenamiento vs validación\")\n",
        "plt.legend(['Train', 'Valid'])\n",
        "plt.show()"
      ],
      "metadata": {
        "colab": {
          "base_uri": "https://localhost:8080/",
          "height": 281
        },
        "id": "xzvEzie52t7a",
        "outputId": "cc9aad8d-66ca-4680-f7f8-a10dea7e1508"
      },
      "execution_count": null,
      "outputs": [
        {
          "output_type": "display_data",
          "data": {
            "text/plain": [
              "<Figure size 432x288 with 1 Axes>"
            ],
            "image/png": "[encoded data removed]"
          },
          "metadata": {
            "needs_background": "light"
          }
        }
      ]
    },
    {
      "cell_type": "code",
      "source": [
        "plt.plot(history[\"train_acc\"])\n",
        "plt.plot(history[\"valid_acc\"])\n",
        "plt.title(\"Accuracy de entrenamiento vs validación\")\n",
        "plt.legend(['Train', 'Valid'])\n",
        "plt.show()"
      ],
      "metadata": {
        "colab": {
          "base_uri": "https://localhost:8080/",
          "height": 281
        },
        "id": "QcDsu2NJ24Hy",
        "outputId": "914d3ef9-4d43-4fa7-d7e3-8d65a27df8aa"
      },
      "execution_count": null,
      "outputs": [
        {
          "output_type": "display_data",
          "data": {
            "text/plain": [
              "<Figure size 432x288 with 1 Axes>"
            ],
            "image/png": "[encoded data removed]"
          },
          "metadata": {
            "needs_background": "light"
          }
        }
      ]
    },
    {
      "cell_type": "code",
      "source": [
        "# Realizo el paso de evaluación computando error y accuracy\n",
        "test_loss = 0.0\n",
        "test_accuracy = 0.0\n",
        "\n",
        "accuracy_metric = torchmetrics.Accuracy()\n",
        "\n",
        "if torch.cuda.is_available():\n",
        "        vgg11_model.to(\"cuda\")\n",
        "        accuracy_metric.to(\"cuda\")\n",
        "\n",
        "for test_data, test_target in test_loader:\n",
        "  if torch.cuda.is_available():\n",
        "        test_data, test_target = test_data.cuda(), test_target.cuda()\n",
        "  output = vgg11_model(test_data)\n",
        "  test_loss += criterion(output, test_target).item()\n",
        "  test_accuracy += accuracy_metric(output, test_target).item()\n",
        "\n",
        "test_loss = test_loss / len(test_loader)\n",
        "test_accuracy = test_accuracy / len(test_loader)\n",
        "\n",
        "print(\"El modelo logró un error de {:.6f} y una accuracy de {:.6f}\".format(test_loss, test_accuracy))"
      ],
      "metadata": {
        "colab": {
          "base_uri": "https://localhost:8080/"
        },
        "id": "vcJxyLwa5q9k",
        "outputId": "ae79aee3-2cb5-4ae5-f7d1-325db1ff3a00"
      },
      "execution_count": null,
      "outputs": [
        {
          "output_type": "stream",
          "name": "stdout",
          "text": [
            "El modelo logró un error de 0.471808 y una accuracy de 0.839357\n"
          ]
        }
      ]
    },
    {
      "cell_type": "markdown",
      "source": [
        "A pesar de solo entrenar durante 10 épocas la red neuronal. El enfoque de emplear transfer learning mejoró notablemente el performance (tanto en error como en accuracy) del modelo tanto en entrenamiento como en validación, comparado con el modelo entrenado en la tarea2 entrenado por 40 épocas. Debido a que esta red es algo más compleja, y que el LR debe ser más pequeño porque empleamos transfer learning, el entrenamiento de cada época tardó relativamente más, comparado con el entrenamiento en la tarea2. Por último, se observa una buena generalización del modelo en datos de validación, y al probar con el set de testeo, se obtiene un accuracy de casi 0.84."
      ],
      "metadata": {
        "id": "IvNm6g_R3PhF"
      }
    },
    {
      "cell_type": "markdown",
      "source": [
        "2) Realice el entrenamiento de la misma red seleccionada en el punto 1, sin partir de pesos preentrenados en esta oportunidad y sin congelar capas. A que resultados llega y como los explica?"
      ],
      "metadata": {
        "id": "dhJCPgxl5G4b"
      }
    },
    {
      "cell_type": "code",
      "source": [
        "# Cargamos dataset sin resize ni normalización, debido a que no utilizaremos pesos preentrenados\n",
        "data_transforms_not_pretrained = torchvision.transforms.Compose([\n",
        "                    torchvision.transforms.ToTensor(),\n",
        "                  ])\n",
        "\n",
        "train_set_not_pretrained = torchvision.datasets.CIFAR10(root='./data', train=True, download=True, transform = data_transforms_not_pretrained)\n",
        "test_set_not_pretrained = torchvision.datasets.CIFAR10(root='./data', train=False, download=True, transform = data_transforms_not_pretrained)"
      ],
      "metadata": {
        "colab": {
          "base_uri": "https://localhost:8080/"
        },
        "id": "QwX7Gnqjlfah",
        "outputId": "b542b91f-404e-4e16-981c-931bf045a78f"
      },
      "execution_count": null,
      "outputs": [
        {
          "output_type": "stream",
          "name": "stdout",
          "text": [
            "Files already downloaded and verified\n",
            "Files already downloaded and verified\n"
          ]
        }
      ]
    },
    {
      "cell_type": "code",
      "source": [
        "# Creamos set de validación\n",
        "\n",
        "valid_set_size = 5000\n",
        "\n",
        "train_set_not_pretrained, valid_set_not_pretrained = torch.utils.data.random_split(train_set_not_pretrained, [len(train_set_not_pretrained) - valid_set_size, valid_set_size])\n",
        "\n",
        "print(\"Tamaño del conjunto de entrenamiento: {}\".format(len(train_set_not_pretrained)))\n",
        "print(\"Tamaño del conjunto de validación: {}\".format(len(valid_set_not_pretrained)))\n"
      ],
      "metadata": {
        "colab": {
          "base_uri": "https://localhost:8080/"
        },
        "id": "juJgWLVVlvqA",
        "outputId": "3620212a-5aa7-4f1e-f2ba-d2617d23a0e7"
      },
      "execution_count": null,
      "outputs": [
        {
          "output_type": "stream",
          "name": "stdout",
          "text": [
            "Tamaño del conjunto de entrenamiento: 45000\n",
            "Tamaño del conjunto de validación: 5000\n"
          ]
        }
      ]
    },
    {
      "cell_type": "code",
      "source": [
        "train_loader_not_pretrained  = torch.utils.data.DataLoader(train_set_not_pretrained , batch_size=32, shuffle=True)\n",
        "valid_loader_not_pretrained  = torch.utils.data.DataLoader(valid_set_not_pretrained , batch_size=32, shuffle=True)\n",
        "test_loader_not_pretrained  = torch.utils.data.DataLoader(test_set_not_pretrained , batch_size=32, shuffle=True)"
      ],
      "metadata": {
        "id": "vKLFJqelmD9x"
      },
      "execution_count": null,
      "outputs": []
    },
    {
      "cell_type": "code",
      "source": [
        "# Carga de modelo base sin pre entrenar los pesos de la red (por default pretrained = False)\n",
        "\n",
        "vgg11_not_pretrained_model = torchvision.models.vgg11()\n",
        "\n",
        "vgg11_not_pretrained_model.to(\"cuda\")\n",
        "\n",
        "torchsummary.summary(vgg11_not_pretrained_model, input_size=(3, 32, 32))\n",
        "vgg11_not_pretrained_model.modules"
      ],
      "metadata": {
        "colab": {
          "base_uri": "https://localhost:8080/"
        },
        "id": "QkKYm3GF5JdE",
        "outputId": "d88dd6e3-72b5-4a45-8574-c2e3feb4728c"
      },
      "execution_count": null,
      "outputs": [
        {
          "output_type": "stream",
          "name": "stdout",
          "text": [
            "----------------------------------------------------------------\n",
            "        Layer (type)               Output Shape         Param #\n",
            "================================================================\n",
            "            Conv2d-1           [-1, 64, 32, 32]           1,792\n",
            "              ReLU-2           [-1, 64, 32, 32]               0\n",
            "         MaxPool2d-3           [-1, 64, 16, 16]               0\n",
            "            Conv2d-4          [-1, 128, 16, 16]          73,856\n",
            "              ReLU-5          [-1, 128, 16, 16]               0\n",
            "         MaxPool2d-6            [-1, 128, 8, 8]               0\n",
            "            Conv2d-7            [-1, 256, 8, 8]         295,168\n",
            "              ReLU-8            [-1, 256, 8, 8]               0\n",
            "            Conv2d-9            [-1, 256, 8, 8]         590,080\n",
            "             ReLU-10            [-1, 256, 8, 8]               0\n",
            "        MaxPool2d-11            [-1, 256, 4, 4]               0\n",
            "           Conv2d-12            [-1, 512, 4, 4]       1,180,160\n",
            "             ReLU-13            [-1, 512, 4, 4]               0\n",
            "           Conv2d-14            [-1, 512, 4, 4]       2,359,808\n",
            "             ReLU-15            [-1, 512, 4, 4]               0\n",
            "        MaxPool2d-16            [-1, 512, 2, 2]               0\n",
            "           Conv2d-17            [-1, 512, 2, 2]       2,359,808\n",
            "             ReLU-18            [-1, 512, 2, 2]               0\n",
            "           Conv2d-19            [-1, 512, 2, 2]       2,359,808\n",
            "             ReLU-20            [-1, 512, 2, 2]               0\n",
            "        MaxPool2d-21            [-1, 512, 1, 1]               0\n",
            "AdaptiveAvgPool2d-22            [-1, 512, 7, 7]               0\n",
            "           Linear-23                 [-1, 4096]     102,764,544\n",
            "             ReLU-24                 [-1, 4096]               0\n",
            "          Dropout-25                 [-1, 4096]               0\n",
            "           Linear-26                 [-1, 4096]      16,781,312\n",
            "             ReLU-27                 [-1, 4096]               0\n",
            "          Dropout-28                 [-1, 4096]               0\n",
            "           Linear-29                 [-1, 1000]       4,097,000\n",
            "================================================================\n",
            "Total params: 132,863,336\n",
            "Trainable params: 132,863,336\n",
            "Non-trainable params: 0\n",
            "----------------------------------------------------------------\n",
            "Input size (MB): 0.01\n",
            "Forward/backward pass size (MB): 2.94\n",
            "Params size (MB): 506.83\n",
            "Estimated Total Size (MB): 509.78\n",
            "----------------------------------------------------------------\n"
          ]
        },
        {
          "output_type": "execute_result",
          "data": {
            "text/plain": [
              "<bound method Module.modules of VGG(\n",
              "  (features): Sequential(\n",
              "    (0): Conv2d(3, 64, kernel_size=(3, 3), stride=(1, 1), padding=(1, 1))\n",
              "    (1): ReLU(inplace=True)\n",
              "    (2): MaxPool2d(kernel_size=2, stride=2, padding=0, dilation=1, ceil_mode=False)\n",
              "    (3): Conv2d(64, 128, kernel_size=(3, 3), stride=(1, 1), padding=(1, 1))\n",
              "    (4): ReLU(inplace=True)\n",
              "    (5): MaxPool2d(kernel_size=2, stride=2, padding=0, dilation=1, ceil_mode=False)\n",
              "    (6): Conv2d(128, 256, kernel_size=(3, 3), stride=(1, 1), padding=(1, 1))\n",
              "    (7): ReLU(inplace=True)\n",
              "    (8): Conv2d(256, 256, kernel_size=(3, 3), stride=(1, 1), padding=(1, 1))\n",
              "    (9): ReLU(inplace=True)\n",
              "    (10): MaxPool2d(kernel_size=2, stride=2, padding=0, dilation=1, ceil_mode=False)\n",
              "    (11): Conv2d(256, 512, kernel_size=(3, 3), stride=(1, 1), padding=(1, 1))\n",
              "    (12): ReLU(inplace=True)\n",
              "    (13): Conv2d(512, 512, kernel_size=(3, 3), stride=(1, 1), padding=(1, 1))\n",
              "    (14): ReLU(inplace=True)\n",
              "    (15): MaxPool2d(kernel_size=2, stride=2, padding=0, dilation=1, ceil_mode=False)\n",
              "    (16): Conv2d(512, 512, kernel_size=(3, 3), stride=(1, 1), padding=(1, 1))\n",
              "    (17): ReLU(inplace=True)\n",
              "    (18): Conv2d(512, 512, kernel_size=(3, 3), stride=(1, 1), padding=(1, 1))\n",
              "    (19): ReLU(inplace=True)\n",
              "    (20): MaxPool2d(kernel_size=2, stride=2, padding=0, dilation=1, ceil_mode=False)\n",
              "  )\n",
              "  (avgpool): AdaptiveAvgPool2d(output_size=(7, 7))\n",
              "  (classifier): Sequential(\n",
              "    (0): Linear(in_features=25088, out_features=4096, bias=True)\n",
              "    (1): ReLU(inplace=True)\n",
              "    (2): Dropout(p=0.5, inplace=False)\n",
              "    (3): Linear(in_features=4096, out_features=4096, bias=True)\n",
              "    (4): ReLU(inplace=True)\n",
              "    (5): Dropout(p=0.5, inplace=False)\n",
              "    (6): Linear(in_features=4096, out_features=1000, bias=True)\n",
              "  )\n",
              ")>"
            ]
          },
          "metadata": {},
          "execution_count": 29
        }
      ]
    },
    {
      "cell_type": "code",
      "source": [
        "# Optimizador, agregando un cero más al learning rate\n",
        "\n",
        "optimizer_not_pretained_ft = torch.optim.Adam(vgg11_not_pretrained_model.parameters(), lr=0.0001)\n",
        "\n",
        "criterion = torch.nn.CrossEntropyLoss()"
      ],
      "metadata": {
        "id": "Vgy7bwq__b5b"
      },
      "execution_count": null,
      "outputs": []
    },
    {
      "cell_type": "code",
      "source": [
        "# Cambiamos última capa para definir 10 salidas\n",
        "\n",
        "last_layer_in_features = vgg11_not_pretrained_model.classifier[-1].in_features\n",
        "vgg11_not_pretrained_model.classifier[-1] = torch.nn.Linear(in_features=last_layer_in_features, out_features=10)"
      ],
      "metadata": {
        "id": "vDAWDWAf_1RL"
      },
      "execution_count": null,
      "outputs": []
    },
    {
      "cell_type": "code",
      "source": [
        "vgg11_not_pretrained_model.modules"
      ],
      "metadata": {
        "colab": {
          "base_uri": "https://localhost:8080/"
        },
        "id": "k0guVir_mgsR",
        "outputId": "842dcb34-7780-49ec-d444-2b69f9178e18"
      },
      "execution_count": null,
      "outputs": [
        {
          "output_type": "execute_result",
          "data": {
            "text/plain": [
              "<bound method Module.modules of VGG(\n",
              "  (features): Sequential(\n",
              "    (0): Conv2d(3, 64, kernel_size=(3, 3), stride=(1, 1), padding=(1, 1))\n",
              "    (1): ReLU(inplace=True)\n",
              "    (2): MaxPool2d(kernel_size=2, stride=2, padding=0, dilation=1, ceil_mode=False)\n",
              "    (3): Conv2d(64, 128, kernel_size=(3, 3), stride=(1, 1), padding=(1, 1))\n",
              "    (4): ReLU(inplace=True)\n",
              "    (5): MaxPool2d(kernel_size=2, stride=2, padding=0, dilation=1, ceil_mode=False)\n",
              "    (6): Conv2d(128, 256, kernel_size=(3, 3), stride=(1, 1), padding=(1, 1))\n",
              "    (7): ReLU(inplace=True)\n",
              "    (8): Conv2d(256, 256, kernel_size=(3, 3), stride=(1, 1), padding=(1, 1))\n",
              "    (9): ReLU(inplace=True)\n",
              "    (10): MaxPool2d(kernel_size=2, stride=2, padding=0, dilation=1, ceil_mode=False)\n",
              "    (11): Conv2d(256, 512, kernel_size=(3, 3), stride=(1, 1), padding=(1, 1))\n",
              "    (12): ReLU(inplace=True)\n",
              "    (13): Conv2d(512, 512, kernel_size=(3, 3), stride=(1, 1), padding=(1, 1))\n",
              "    (14): ReLU(inplace=True)\n",
              "    (15): MaxPool2d(kernel_size=2, stride=2, padding=0, dilation=1, ceil_mode=False)\n",
              "    (16): Conv2d(512, 512, kernel_size=(3, 3), stride=(1, 1), padding=(1, 1))\n",
              "    (17): ReLU(inplace=True)\n",
              "    (18): Conv2d(512, 512, kernel_size=(3, 3), stride=(1, 1), padding=(1, 1))\n",
              "    (19): ReLU(inplace=True)\n",
              "    (20): MaxPool2d(kernel_size=2, stride=2, padding=0, dilation=1, ceil_mode=False)\n",
              "  )\n",
              "  (avgpool): AdaptiveAvgPool2d(output_size=(7, 7))\n",
              "  (classifier): Sequential(\n",
              "    (0): Linear(in_features=25088, out_features=4096, bias=True)\n",
              "    (1): ReLU(inplace=True)\n",
              "    (2): Dropout(p=0.5, inplace=False)\n",
              "    (3): Linear(in_features=4096, out_features=4096, bias=True)\n",
              "    (4): ReLU(inplace=True)\n",
              "    (5): Dropout(p=0.5, inplace=False)\n",
              "    (6): Linear(in_features=4096, out_features=10, bias=True)\n",
              "  )\n",
              ")>"
            ]
          },
          "metadata": {},
          "execution_count": 32
        }
      ]
    },
    {
      "cell_type": "code",
      "source": [
        "result_model, history = train(vgg11_not_pretrained_model, criterion, optimizer_not_pretained_ft, train_loader_not_pretrained, valid_loader_not_pretrained, 10)"
      ],
      "metadata": {
        "colab": {
          "base_uri": "https://localhost:8080/"
        },
        "id": "MXkknQLI_Qua",
        "outputId": "6455274e-a386-4f1d-a066-953aeaf74a06"
      },
      "execution_count": null,
      "outputs": [
        {
          "output_type": "stream",
          "name": "stdout",
          "text": [
            "Epoch: 1/10 - Train loss 1.594378 - Train Accuracy 0.392724 - Valid Loss 1.229885 - Valid Accuracy 0.559315\n",
            "Epoch: 2/10 - Train loss 1.101003 - Train Accuracy 0.605899 - Valid Loss 1.025483 - Valid Accuracy 0.633559\n",
            "Epoch: 3/10 - Train loss 0.873987 - Train Accuracy 0.690876 - Valid Loss 0.928749 - Valid Accuracy 0.683917\n",
            "Epoch: 4/10 - Train loss 0.689136 - Train Accuracy 0.758262 - Valid Loss 0.832531 - Valid Accuracy 0.723925\n",
            "Epoch: 5/10 - Train loss 0.529135 - Train Accuracy 0.816409 - Valid Loss 0.840192 - Valid Accuracy 0.720143\n",
            "Epoch: 6/10 - Train loss 0.390911 - Train Accuracy 0.865139 - Valid Loss 0.912706 - Valid Accuracy 0.714172\n",
            "Epoch: 7/10 - Train loss 0.282562 - Train Accuracy 0.902918 - Valid Loss 1.002815 - Valid Accuracy 0.726314\n",
            "Epoch: 8/10 - Train loss 0.218429 - Train Accuracy 0.926017 - Valid Loss 1.056309 - Valid Accuracy 0.731688\n",
            "Epoch: 9/10 - Train loss 0.169712 - Train Accuracy 0.942853 - Valid Loss 1.119828 - Valid Accuracy 0.727508\n",
            "Epoch: 10/10 - Train loss 0.142419 - Train Accuracy 0.952625 - Valid Loss 1.215781 - Valid Accuracy 0.724323\n"
          ]
        }
      ]
    },
    {
      "cell_type": "code",
      "source": [
        "plt.plot(history[\"train_loss\"])\n",
        "plt.plot(history[\"valid_loss\"])\n",
        "plt.title(\"Error de entrenamiento vs validación\")\n",
        "plt.legend(['Train', 'Valid'])\n",
        "plt.show()"
      ],
      "metadata": {
        "colab": {
          "base_uri": "https://localhost:8080/",
          "height": 281
        },
        "id": "xx0ni8HyvaOd",
        "outputId": "494e7781-ee13-4217-ac7b-d921c83d2fa5"
      },
      "execution_count": null,
      "outputs": [
        {
          "output_type": "display_data",
          "data": {
            "text/plain": [
              "<Figure size 432x288 with 1 Axes>"
            ],
            "image/png": "[encoded data removed]"
          },
          "metadata": {
            "needs_background": "light"
          }
        }
      ]
    },
    {
      "cell_type": "code",
      "source": [
        "plt.plot(history[\"train_acc\"])\n",
        "plt.plot(history[\"valid_acc\"])\n",
        "plt.title(\"Accuracy de entrenamiento vs validación\")\n",
        "plt.legend(['Train', 'Valid'])\n",
        "plt.show()"
      ],
      "metadata": {
        "colab": {
          "base_uri": "https://localhost:8080/",
          "height": 281
        },
        "id": "1KgIowoNvlnB",
        "outputId": "72d4c69e-c0bd-4e0f-9077-09666eda7f13"
      },
      "execution_count": null,
      "outputs": [
        {
          "output_type": "display_data",
          "data": {
            "text/plain": [
              "<Figure size 432x288 with 1 Axes>"
            ],
            "image/png": "[encoded data removed]"
          },
          "metadata": {
            "needs_background": "light"
          }
        }
      ]
    },
    {
      "cell_type": "code",
      "source": [
        "# Realizo el paso de evaluación computando error y accuracy\n",
        "test_loss = 0.0\n",
        "test_accuracy = 0.0\n",
        "\n",
        "accuracy_metric = torchmetrics.Accuracy()\n",
        "\n",
        "if torch.cuda.is_available():\n",
        "        vgg11_not_pretrained_model.to(\"cuda\")\n",
        "        accuracy_metric.to(\"cuda\")\n",
        "\n",
        "for test_data, test_target in test_loader_not_pretrained:\n",
        "  if torch.cuda.is_available():\n",
        "        test_data, test_target = test_data.cuda(), test_target.cuda()\n",
        "  output = vgg11_not_pretrained_model(test_data)\n",
        "  test_loss += criterion(output, test_target).item()\n",
        "  test_accuracy += accuracy_metric(output, test_target).item()\n",
        "\n",
        "test_loss = test_loss / len(test_loader)\n",
        "test_accuracy = test_accuracy / len(test_loader)\n",
        "\n",
        "print(\"El modelo logró un error de {:.6f} y una accuracy de {:.6f}\".format(test_loss, test_accuracy))"
      ],
      "metadata": {
        "colab": {
          "base_uri": "https://localhost:8080/"
        },
        "id": "hlGvL6a35yni",
        "outputId": "80b493d4-8122-409a-8812-853ca8d27651"
      },
      "execution_count": null,
      "outputs": [
        {
          "output_type": "stream",
          "name": "stdout",
          "text": [
            "El modelo logró un error de 1.243641 y una accuracy de 0.716953\n"
          ]
        }
      ]
    },
    {
      "cell_type": "markdown",
      "source": [
        "Inicialmente, se deben cambiar ciertas consideraciones iniciales, como la normalización y el resize, ya que estás son recomendadas cuando se emplean los pesos preentrenados. El modelo inicia con resultados peores comparados con el enfoque con pesos preentrenados, ya que tiene que aprender inicialmente de los datos, pero a medida que avanza va mejorando el accuracy y disminuyendo el error únicamente en el set de entrenamiento, por lo que podemos decir que el modelo cae en un sobreentrenamiento y al final, probándolo con el set de test, se obtiene solo .716 de accuracy. \n",
        "\n",
        "Los resultados hacen mucho sentido, utilizando los modelos pre-entrenados (y siempre y cuando los datos sean similares a nuestro problema objetivo) podemos encontrar patrones mucho más complejos encontrados entre los datos tras el entrenamiento de la red en ImageNet, pero aplicadas al caso partícular del dataset de CIFAR10, lo anterior hace que el modelo empiece con un performance más alto y evita que se sobreentrene el modelo, pero también hace que el performance aumente paulatinamente tras cada época. Mientras que cuando no utilizamos los pesos pre-entrenados, estamos forzando al modelo a aprender únicamente de nuestro set de datos, lo que al final puede lograr mejores resultados en entrenamiento, pero no tan buenos en validación y/o test, tal y como se evidenció en los resultados finales."
      ],
      "metadata": {
        "id": "fYwhycV66_v4"
      }
    }
  ]
}