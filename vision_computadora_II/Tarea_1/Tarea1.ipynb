{
  "nbformat": 4,
  "nbformat_minor": 0,
  "metadata": {
    "colab": {
      "name": "Tarea1.ipynb",
      "provenance": []
    },
    "kernelspec": {
      "name": "python3",
      "display_name": "Python 3"
    },
    "language_info": {
      "name": "python"
    }
  },
  "cells": [
    {
      "cell_type": "markdown",
      "source": [
        "1. Completar la tabla"
      ],
      "metadata": {
        "id": "Itc56tlTqTTi"
      }
    },
    {
      "cell_type": "code",
      "source": [
        "import torch\n",
        "import torchsummary"
      ],
      "metadata": {
        "id": "lzLA-ukyqWQC"
      },
      "execution_count": 2,
      "outputs": []
    },
    {
      "cell_type": "code",
      "source": [
        "class nnTable(torch.nn.Module):\n",
        "    def __init__(self):\n",
        "        super().__init__()\n",
        "        self.conv1 = torch.nn.Conv2d(in_channels= 3, out_channels= 8, kernel_size=5, stride=2, padding= 2)\n",
        "        self.pool1 = torch.nn.MaxPool2d(kernel_size=2, stride=2)\n",
        "        self.conv2 = torch.nn.Conv2d(in_channels=8, out_channels=16, kernel_size=3, stride=1, padding= 1)\n",
        "        self.pool2 = torch.nn.MaxPool2d(kernel_size=4, stride=4)\n",
        "        self.fc1 = torch.nn.Linear(in_features= 16 * 4 * 4, out_features=6)\n",
        "\n",
        "    def forward(self, x):\n",
        "        x = self.pool1(torch.relu(self.conv1(x)))\n",
        "        x = self.pool2(torch.relu(self.conv2(x)))\n",
        "        x = torch.flatten(x, 1) \n",
        "        x = self.fc1(x)\n",
        "        return x\n",
        "\n",
        "conv_model = nnTable()"
      ],
      "metadata": {
        "id": "L-fhShXoqcjN"
      },
      "execution_count": 3,
      "outputs": []
    },
    {
      "cell_type": "code",
      "source": [
        "torchsummary.summary(conv_model, (3, 64, 64))"
      ],
      "metadata": {
        "colab": {
          "base_uri": "https://localhost:8080/"
        },
        "id": "EmQkhNqWryOG",
        "outputId": "658592cb-ba20-4a5e-d895-84683d4f27d6"
      },
      "execution_count": 4,
      "outputs": [
        {
          "output_type": "stream",
          "name": "stdout",
          "text": [
            "----------------------------------------------------------------\n",
            "        Layer (type)               Output Shape         Param #\n",
            "================================================================\n",
            "            Conv2d-1            [-1, 8, 32, 32]             608\n",
            "         MaxPool2d-2            [-1, 8, 16, 16]               0\n",
            "            Conv2d-3           [-1, 16, 16, 16]           1,168\n",
            "         MaxPool2d-4             [-1, 16, 4, 4]               0\n",
            "            Linear-5                    [-1, 6]           1,542\n",
            "================================================================\n",
            "Total params: 3,318\n",
            "Trainable params: 3,318\n",
            "Non-trainable params: 0\n",
            "----------------------------------------------------------------\n",
            "Input size (MB): 0.05\n",
            "Forward/backward pass size (MB): 0.11\n",
            "Params size (MB): 0.01\n",
            "Estimated Total Size (MB): 0.17\n",
            "----------------------------------------------------------------\n"
          ]
        }
      ]
    },
    {
      "cell_type": "markdown",
      "source": [
        "|  | Dimensiones de entrada | Cantidad de parámetros |\n",
        "| --- | --- | --- |\n",
        "| Entrada   | (3, 64, 64) | 0 |\n",
        "| Conv2D(f=5, s=2, c=8, p=2) | (8, 32, 32) | 608 |\n",
        "| MaxPool(f=2, s=2) | (8, 16, 16) | 0 |\n",
        "| Conv2D(f=3, s=1, c=16, p=1) | (16, 16, 16) | 1168 |\n",
        "| MaxPool(f=4, s=4) | (16, 4, 4) | 0 |\n",
        "| Dense(salida=6) | (6)| 1542 |"
      ],
      "metadata": {
        "id": "C05ZsnG82J3A"
      }
    },
    {
      "cell_type": "markdown",
      "source": [
        "2) "
      ],
      "metadata": {
        "id": "7XoWDiTD40cY"
      }
    },
    {
      "cell_type": "code",
      "source": [
        "import numpy as np\n",
        "import matplotlib.pyplot as plt"
      ],
      "metadata": {
        "id": "mpe5a7gvsrZt"
      },
      "execution_count": 5,
      "outputs": []
    },
    {
      "cell_type": "code",
      "source": [
        "class Conv2d(object):\n",
        "    \n",
        "    def __init__(self, in_channels: int, out_channels: int, filter_size, stride, padding):\n",
        "\n",
        "        self.in_channels = in_channels\n",
        "        self.out_channels = out_channels\n",
        "        self.filter_size = filter_size\n",
        "        self.stride = stride\n",
        "        self.padding = padding\n",
        "        #self.w = np.random.randn(out_channels, in_channels, filter_size, filter_size)\n",
        "        #self.b = np.random.randn(out_channels)\n",
        "        #self.last_output = None\n",
        "        #self.last_input = None\n",
        "        \n",
        "       \n",
        "    # Padding\n",
        "\n",
        "    def zero_padding(self, X):\n",
        "      \"\"\"\n",
        "      Argumentos:\n",
        "      X: Array numpy de entrada con dimensiones (batch_size, n_C, n_H, n_W)\n",
        "      #pad: Entero representando la cantidad de filas y columnas que se deben agregar con ceros\n",
        "\n",
        "      Retorna:\n",
        "\n",
        "      X_padded: Array numpy con dimensiones (batch_size, n_C, n_H + 2*pad, n_W + 2*pad)\n",
        "      \"\"\"\n",
        "      if self.padding.lower() == \"valid\":\n",
        "\n",
        "          return X\n",
        "\n",
        "      elif self.padding.lower() == \"same\":\n",
        "\n",
        "          pad = ((self.stride -1) * X.shape[0] - self.stride + self.filter_size) // 2\n",
        "          X_padded = np.pad(X, ((0,0), (0,0), (pad, pad), (pad, pad)), 'constant', constant_values = (0,0))\n",
        "\n",
        "          return X_padded, pad\n",
        "\n",
        "    # Función para realizar la operación de convolución\n",
        "\n",
        "    def convolve(self, X, W, b):\n",
        "      \"\"\"\n",
        "      Argumentos:\n",
        "        X: Array numpy de entrada con dimensiones (filter_size, filter_size, n_C_prev)\n",
        "        #W: Array numpy con los pesos de un filtro con dimensiones (filter_size, filter_size, n_C_prev)\n",
        "        #b: Entero con el valor de bias de la capa actual\n",
        "\n",
        "      Retorna:\n",
        "        Z: Entero con el valor del resultado\n",
        "      \"\"\"\n",
        "\n",
        "      # Multiplico elemento a elemento el valor de entrada con los pesos del filtro\n",
        "      aux = X * W\n",
        "      # Realizo la suma de todos los elementos\n",
        "      aux = np.sum(aux)\n",
        "      # Le sumo el valor del bias para obtener Z\n",
        "      Z = aux + float(b)\n",
        "\n",
        "      return Z\n",
        "    \n",
        "    # Función para realizar el forward pass de una capa convolucional\n",
        "\n",
        "    # Función para realizar el forward pass de una capa convolucional\n",
        "\n",
        "    def conv_forward(self, layer_input, W, b):\n",
        "      \"\"\"\n",
        "      Argumentos:\n",
        "        layer_input: Array numpy con los valores de entrada a la capa convolucional (batch_size, n_C_prev, n_H_prev, n_W_prev)\n",
        "        W: Array numpy con los pesos de los filtros utilizados en la capa actual (n_C, n_C_prev, filter_size, filter_size)\n",
        "        b: Array numpy con los valores de bias utilizados en la capa actual (1, 1, 1, n_C)\n",
        "        stride: Entero con el valor de stride utilizado en la capa actual.\n",
        "        padding: \n",
        "\n",
        "      Retorna:\n",
        "        Z: Array numpy con los valores de salida de la capa convolucional (batch_size, n_H, n_W, n_C)\n",
        "      \"\"\"\n",
        "\n",
        "      # Obtengo las dimensiones de la entrada\n",
        "      (batch_size, n_C_prev, n_H_prev, n_W_prev) = layer_input.shape\n",
        "\n",
        "      # Obtengo las dimensiones de los filtros\n",
        "      (n_C, n_C_prev, filter_size, filter_size) = W.shape\n",
        "\n",
        "      # Agrego padding con ceros al volumen de entrada\n",
        "      layer_input_padded, pad = self.zero_padding(layer_input)\n",
        "\n",
        "      # Calculo las dimensiones del volumen de salida de la capa actual\n",
        "      n_H = int((n_H_prev + 2*pad - filter_size)/self.stride + 1)\n",
        "      n_W = int((n_W_prev + 2*pad - filter_size)/self.stride + 1)\n",
        "\n",
        "      # Inicializo el volumen de salida con ceros\n",
        "      Z = np.zeros([batch_size, n_C, n_H, n_W])\n",
        "\n",
        "\n",
        "      # Comienzo iterando sobre cada ejemplo del batch\n",
        "      for i in range(batch_size):\n",
        "\n",
        "        # Itero sobre el eje vertical del volumen de salida\n",
        "        for h in range(n_H):\n",
        "          # Calculo las coordenadas verticales de inicio y fin de la ventana sobre la que aplicaremos el filtro\n",
        "          y_start = self.stride * h\n",
        "          y_end = y_start + filter_size\n",
        "\n",
        "          # Itero sobre el eje horizontal del volumen de salida\n",
        "          for w in range(n_W):\n",
        "            # Calculo las coordenadas horizontales de inicio y fin de la ventana sobre la que aplicaremos el filtro\n",
        "            x_start = self.stride * w\n",
        "            x_end = x_start + filter_size\n",
        "\n",
        "            # Extraigo la ventana para calcular la convolucion, del volumen de entrada con padding\n",
        "            slice_from_input_padded = layer_input_padded[i, :, y_start:y_end, x_start:x_end]\n",
        "            \n",
        "            # Itero sobre la cantidad de canales del volumen de salida\n",
        "            for c in range(n_C):\n",
        "\n",
        "              # Obtengo el valor del filtro y bias del canal correspondiente\n",
        "              filter = W[c, :, :, :]\n",
        "              bias = b[c]\n",
        "\n",
        "              # Computo la operación de convolución para esta ventana\n",
        "              Z[i, c, h, w] = self.convolve(slice_from_input_padded, filter, bias)\n",
        "      \n",
        "      return Z\n",
        "\n",
        "\n",
        "def conv_backward(self, dLdO, layer_input, W, b):\n",
        "\n",
        "    #dimensiones de la derivada de L con respecto de O\n",
        "    (batch_size, n_C, n_H, n_W) = dLdO.shape \n",
        "    \n",
        "    #dimensiones de la entrada de la capa (output del forward)\n",
        "        \n",
        "    layer_output = self.conv_forward(layer_input, W, b)\n",
        "    \n",
        "    (batch_size, n_C_prev, n_H_prev, n_W_prev) = layer_output.shape\n",
        "\n",
        "    # Obtengo las dimensiones de los filtros\n",
        "    (n_C, n_C_prev, filter_size, filter_size) = W.shape\n",
        "\n",
        "    \n",
        "    # Inicializa dA_prev, dW, db \n",
        "    dA_prev = np.zeros((batch_size, n_H_prev, n_W_prev, n_C_prev))                           \n",
        "    dW = np.zeros((filter_size, filter_size, n_C_prev, n_C))\n",
        "    db = np.zeros((1, 1, 1, n_C))\n",
        "\n",
        "    # Pad A_prev y dA_prev\n",
        "    A_prev_pad = self.zero_padding(layer_input)\n",
        "    dA_prev_pad, pad = self.zero_padding(dA_prev)\n",
        "    \n",
        "    for i in range(batch_size):                       \n",
        "        \n",
        "        a_prev_pad = A_prev_pad[i, :, :, :]\n",
        "        da_prev_pad = dA_prev_pad[i, :, :, :]\n",
        "        \n",
        "        for h in range(n_H):                   \n",
        "            for w in range(n_W):             \n",
        "                for c in range(n_C):           \n",
        "                    \n",
        "                    vert_start = h\n",
        "                    vert_end = vert_start + filter_size\n",
        "                    horiz_start = w\n",
        "                    horiz_end = horiz_start + filter_size\n",
        "                    \n",
        "                    a_slice = a_prev_pad[vert_start:vert_end, horiz_start:horiz_end, :]\n",
        "\n",
        "                    da_prev_pad[vert_start:vert_end, horiz_start:horiz_end, :] += W[:,:,:,c] * dLdO[i, h, w, c]\n",
        "                    dW[:,:,:,c] += a_slice * dLdO[i, h, w, c]\n",
        "                    db[:,:,:,c] += dLdO[i, h, w, c]\n",
        "                    \n",
        "        dA_prev[i, :, :, :] = da_prev_pad[pad:-pad, pad:-pad, :]\n",
        "    \n",
        "    return dW, db\n",
        "   "
      ],
      "metadata": {
        "id": "oR_SIf7FtYLX"
      },
      "execution_count": 114,
      "outputs": []
    },
    {
      "cell_type": "markdown",
      "source": [
        "### Validación resultados"
      ],
      "metadata": {
        "id": "V6Q8DxYcwctA"
      }
    },
    {
      "cell_type": "code",
      "source": [
        "# Dimensiones de la entrada\n",
        "batch_size = 1\n",
        "input_height, input_width = (7, 7)\n",
        "input_channels = 4\n",
        "\n",
        "# Dimensiones de la convolucional\n",
        "filters = 8\n",
        "filter_size = 3\n",
        "stride = 1\n",
        "pad = \"same\"\n",
        "\n",
        "# Variables de prueba\n",
        "test_array = np.random.randn(batch_size, input_channels, input_height, input_width)\n",
        "W = np.random.randn(filters, input_channels, filter_size, filter_size)\n",
        "b = np.random.randn(filters)\n"
      ],
      "metadata": {
        "id": "NNiu3k_KJi4m"
      },
      "execution_count": 108,
      "outputs": []
    },
    {
      "cell_type": "code",
      "source": [
        "conv = Conv2d(input_channels, filters, filter_size, stride, pad)\n"
      ],
      "metadata": {
        "id": "AP1LMXj6J8mn"
      },
      "execution_count": 109,
      "outputs": []
    },
    {
      "cell_type": "markdown",
      "source": [
        "#### Zero Padding"
      ],
      "metadata": {
        "id": "hd4crH00wuMr"
      }
    },
    {
      "cell_type": "code",
      "source": [
        "x_padded, pad = conv.zero_padding(test_array)\n",
        "x_padded.shape\n"
      ],
      "metadata": {
        "colab": {
          "base_uri": "https://localhost:8080/"
        },
        "id": "W_H4oTsXJ-tS",
        "outputId": "ef0730f4-bb71-4a05-8b5a-54f43b4c90f8"
      },
      "execution_count": 110,
      "outputs": [
        {
          "output_type": "execute_result",
          "data": {
            "text/plain": [
              "(1, 4, 9, 9)"
            ]
          },
          "metadata": {},
          "execution_count": 110
        }
      ]
    },
    {
      "cell_type": "markdown",
      "source": [
        "#### Conv Forward"
      ],
      "metadata": {
        "id": "O7pEJzCWwzdJ"
      }
    },
    {
      "cell_type": "code",
      "source": [
        "conv_result = conv.conv_forward(test_array, W, b)\n",
        "conv_result_pyt = torch.nn.functional.conv2d(torch.tensor(test_array), torch.tensor(W), torch.tensor(b), stride, pad)\n"
      ],
      "metadata": {
        "id": "2uY0EpbJw8GW"
      },
      "execution_count": 112,
      "outputs": []
    },
    {
      "cell_type": "code",
      "source": [
        "print(\"Convolución: Result shape: {}\".format(conv_result.shape))\n",
        "print(\"Convolución: Result value: {}\".format(conv_result[0, 0, 0, 0]))\n",
        "print(\"Convolución: Result shape: {}\".format(conv_result_pyt.shape))\n",
        "print(\"Convolución: Result value: {}\".format(conv_result_pyt[0, 0, 0, 0]))"
      ],
      "metadata": {
        "colab": {
          "base_uri": "https://localhost:8080/"
        },
        "id": "0clSiPUSw2VL",
        "outputId": "1f5b3b65-ca7d-46fb-f8e9-7b6ab7c9d512"
      },
      "execution_count": 113,
      "outputs": [
        {
          "output_type": "stream",
          "name": "stdout",
          "text": [
            "Convolución: Result shape: (1, 8, 7, 7)\n",
            "Convolución: Result value: 2.665044292399455\n",
            "Convolución: Result shape: torch.Size([1, 8, 7, 7])\n",
            "Convolución: Result value: 2.665044292399455\n"
          ]
        }
      ]
    },
    {
      "cell_type": "markdown",
      "source": [
        "#### Conv Backward"
      ],
      "metadata": {
        "id": "5oTKLUrpxC-Y"
      }
    }
  ]
}