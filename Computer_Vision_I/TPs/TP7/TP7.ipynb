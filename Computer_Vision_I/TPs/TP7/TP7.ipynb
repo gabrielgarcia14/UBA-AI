{
 "cells": [
  {
   "cell_type": "code",
   "execution_count": 1,
   "metadata": {},
   "outputs": [
    {
     "name": "stdout",
     "output_type": "stream",
     "text": [
      "Using matplotlib backend: Qt5Agg\n"
     ]
    }
   ],
   "source": [
    "#Si queremos que las imágenes sean mostradas en una ventana emergente quitar el inline\n",
    "# %matplotlib inline\n",
    "%matplotlib\n",
    "\n",
    "# Importamos las librerías necesarias\n",
    "import cv2 as cv\n",
    "import numpy as np\n"
   ]
  },
  {
   "cell_type": "code",
   "execution_count": 2,
   "metadata": {},
   "outputs": [],
   "source": [
    "def calculate_frames_median(cap, actual_frame, N = 30):\n",
    "    \n",
    "    # Set the capture in the acutal frame\n",
    "    cap.set(cv.CAP_PROP_POS_FRAMES, actual_frame)\n",
    "    # Randomly select N frames\n",
    "    frame_ids = cap.get(cv.CAP_PROP_FRAME_COUNT) * np.random.uniform(size=N)\n",
    "\n",
    "    # Store selected frames in an array\n",
    "    frames = []\n",
    "    for fid in frame_ids:\n",
    "        ret, frame = cap.read()\n",
    "        frames.append(frame)\n",
    "\n",
    "    # Calculate the median along the time axis\n",
    "\n",
    "    return np.median(frames, axis=0).astype(dtype=np.uint8)    \n",
    "\n"
   ]
  },
  {
   "cell_type": "code",
   "execution_count": 3,
   "metadata": {},
   "outputs": [],
   "source": [
    "# Método de sustracción de fondo basado en mezclas gausianas\n",
    "\n",
    "#metodo = 'MOG2'\n",
    "metodo = 'KNN'\n",
    "if metodo == 'MOG2':\n",
    "    backSub = cv.createBackgroundSubtractorMOG2()\n",
    "else:\n",
    "    backSub = cv.createBackgroundSubtractorKNN()\n",
    "    backSub = cv.createBackgroundSubtractorKNN(detectShadows = False)"
   ]
  },
  {
   "cell_type": "code",
   "execution_count": 8,
   "metadata": {},
   "outputs": [],
   "source": [
    "# Abrimos el archivo\n",
    "#-------------------\n",
    "filename = 'vtest.avi'\n",
    "capture = cv.VideoCapture(filename)\n",
    "\n",
    "if not capture.isOpened:\n",
    "    print('Falla al abrir el archivo: ' + filename)\n",
    "    exit(0)\n",
    "\n",
    "#Start the median frame calculation with all the frames\n",
    "grayMedianFrame = cv.cvtColor(calculate_frames_median(capture, 1, 30), cv.COLOR_BGR2GRAY)\n",
    "\n",
    "# Counter to know the number of elapsed cycles\n",
    "counter = 0\n",
    "# Time elapsed in ms for each cycle\n",
    "ms_to_wait = 30\n",
    "# How many time (in ms) to recalculate the median frame\n",
    "recal_time = 3000\n",
    "# Loop over all frames\n",
    "while(1):\n",
    "  \n",
    "  ret, frame = capture.read()\n",
    "  \n",
    "  if ret == True:\n",
    "      counter += 1\n",
    "\n",
    "      # Calculate foreground mask from the gaussian method\n",
    "      fgMask = backSub.apply(frame)\n",
    "\n",
    "      if counter%int(recal_time/ms_to_wait) == 0:\n",
    "        # Cut the median frame calculation >= actual frame\n",
    "        actual_frame = capture.get(cv.CAP_PROP_POS_FRAMES)\n",
    "        #print(actual_frame)\n",
    "        grayMedianFrame = cv.cvtColor(calculate_frames_median(capture, actual_frame, 25), cv.COLOR_BGR2GRAY)\n",
    "        \n",
    "      # Convert current frame to grayscale\n",
    "      grayImage = cv.cvtColor(frame, cv.COLOR_BGR2GRAY)\n",
    "      # Calculate absolute difference of current frame and the median frame\n",
    "      frame = cv.absdiff(grayImage, grayMedianFrame)\n",
    "      # Otsu binarization\n",
    "      used_tresh, frame = cv.threshold(frame,30,255,cv.THRESH_BINARY+cv.THRESH_OTSU)\n",
    "\n",
    "      # FG Mask from Naive-median method vs Gaussian\n",
    "      cv.imshow('FG Mask Naive-median', frame)\n",
    "      cv.imshow('FG Mask Gaussian', fgMask)\n",
    "\n",
    "      k = cv.waitKey(ms_to_wait) & 0xff\n",
    "      if k == ord(\"q\"):\n",
    "        break\n",
    "  else:\n",
    "      break\n",
    "\n",
    "# Destroy all windows\n",
    "cv.destroyAllWindows()\n",
    "\n",
    "# Release video object\n",
    "capture.release()\n",
    "\n"
   ]
  },
  {
   "cell_type": "markdown",
   "metadata": {},
   "source": [
    "### Diferencias con método basado en mezcla gaussiana\n",
    "\n",
    "Al comparar los vídeos, vemos que el método de sustracción de fondo naive usando la mediana como estimador genera mucho menos ruido (a excepción de un error de implementación al actualizar los frames de mi parte) comparado con los métodos basados en mezclas gaussianas. Sin embargo, algo que se puede apreciar, es que la segmentación hecha de las personas y objetos que se mueven es mucho mejor con los métodos basados en mezclas gaussianas, realizando un postprocesamiento adecuado del ruido generado, podría dar mejores resultados comparado con el de naive."
   ]
  },
  {
   "cell_type": "markdown",
   "metadata": {},
   "source": [
    "![Naive vs Gaussian](evidence.png)"
   ]
  }
 ],
 "metadata": {
  "interpreter": {
   "hash": "aa37c5c44c7a6a6b5f6683bfabc05619b0d0d92001ddf15db16a0d8d3bdba26c"
  },
  "kernelspec": {
   "display_name": "Python 3.9.6 ('UBA')",
   "language": "python",
   "name": "python3"
  },
  "language_info": {
   "codemirror_mode": {
    "name": "ipython",
    "version": 3
   },
   "file_extension": ".py",
   "mimetype": "text/x-python",
   "name": "python",
   "nbconvert_exporter": "python",
   "pygments_lexer": "ipython3",
   "version": "3.9.6"
  },
  "orig_nbformat": 4
 },
 "nbformat": 4,
 "nbformat_minor": 2
}
