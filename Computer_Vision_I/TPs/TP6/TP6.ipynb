{
 "cells": [
  {
   "cell_type": "markdown",
   "metadata": {},
   "source": [
    "### TP6 Gabriel García\n",
    "\n",
    "1. Implementar un detector de Haar (vista frontal)\n",
    "2. En esa ROI, detectar los ojos\n",
    "3. Detectar si ambos ojos están abiertos o cerrados y mostrar el estado de la detección sobre el frame\n"
   ]
  },
  {
   "cell_type": "code",
   "execution_count": 1,
   "metadata": {},
   "outputs": [
    {
     "name": "stdout",
     "output_type": "stream",
     "text": [
      "Using matplotlib backend: Qt5Agg\n"
     ]
    }
   ],
   "source": [
    "#Si queremos que las imágenes sean mostradas en una ventana emergente quitar el inline\n",
    "# %matplotlib inline\n",
    "%matplotlib\n",
    "\n",
    "# Importamos las librerías necesarias\n",
    "import cv2 as cv"
   ]
  },
  {
   "cell_type": "code",
   "execution_count": 3,
   "metadata": {},
   "outputs": [],
   "source": [
    "# # Leemos los clasificadores pre-entrenados\n",
    "#--------------------------------------------------------------------------------\n",
    "face_cascade = cv.CascadeClassifier('haar_cascades/haarcascade_frontalface_default.xml')\n",
    "eye_cascade = cv.CascadeClassifier('haar_cascades/haarcascade_eye.xml')"
   ]
  },
  {
   "cell_type": "code",
   "execution_count": 4,
   "metadata": {},
   "outputs": [],
   "source": [
    "cap = cv.VideoCapture(0)\n",
    "counter = 0\n",
    "ms_to_wait = 50\n",
    "while(1):\n",
    "    ret, frame = cap.read()\n",
    "    if ret == True:\n",
    "\n",
    "        # Pasamos la imagen a escala de grises y ecualizamos el frame\n",
    "        #-------------------------------------\n",
    "        grayImage = cv.cvtColor(frame, cv.COLOR_BGR2GRAY)\n",
    "        grayImage = cv.equalizeHist(grayImage)\n",
    "\n",
    "        # Llamamos al clasificador de Haar (AdaBoost)\n",
    "        #--------------------------------------------\n",
    "        faces = face_cascade.detectMultiScale(grayImage, scaleFactor=1.1, minNeighbors=5, minSize=(100,130), maxSize=(200,400))\n",
    "        \n",
    "        # Recorro las caras encontradas y dibujo un rectángulo a su alrededor\n",
    "        #------------------------------\n",
    "        for (x,y,w,h) in faces:\n",
    "            # Dibujo el rectángulo \n",
    "            cv.rectangle(frame,(x,y),(x+w,y+h),(255,255,0),2)\n",
    "\n",
    "            # Definimos las ROIs en la imagen gris y color\n",
    "            roi_gray = grayImage[y:y+h, x:x+w] \n",
    "            roi_color = frame[y:y+h, x:x+w]\n",
    "            \n",
    "            # Encuentro los ojos dentro de cada cara y los encierro en un rectángulo\n",
    "            eyes = eye_cascade.detectMultiScale(roi_gray, scaleFactor=1.1, minNeighbors=5, minSize=(int(w/6),int(h/6)), maxSize=(int(w/3),int(h/4)))\n",
    "            \n",
    "            # Recorro los ojos encontrados,  \n",
    "            # si no encuentro espero 3 ciclos (150 ms) para confirmar si no es un parpadeo\n",
    "            # Si pasan los 3 ciclos detecto ojos cerrados, y cuento los ms transcurridos. \n",
    "            \n",
    "            try:\n",
    "                total_eyes = eyes.shape[0]\n",
    "                if eyes.shape[0] != 0:\n",
    "                    for (ex,ey,ew,eh) in eyes:\n",
    "                        counter = 0\n",
    "                        cv.rectangle(roi_color,(ex,ey),(ex+ew,ey+eh),(0,255,0),1)\n",
    "                        # Escribimos sobre la imagen la cantidad de ojos abiertos\n",
    "                        cv.rectangle(frame, (10, 2), (175,30), (255,255,255), -1)\n",
    "                        cv.putText(frame, f\"Ojos abiertos: {total_eyes}\", (15, 20), cv.FONT_HERSHEY_SIMPLEX, 0.6 , (0,0,0))\n",
    "                \n",
    "            except:\n",
    "                counter += 1\n",
    "                if counter > 3:\n",
    "                    total_eyes = 0\n",
    "                    # Escribimos sobre la imagen que los ojos están cerrados y el tiempo que permanecen así\n",
    "                    cv.rectangle(frame, (10, 2), (320,30), (0,255,255), -1)\n",
    "                    cv.putText(frame, f\"Ojos cerrados durante {ms_to_wait*(counter-2)} ms\", (15, 20), cv.FONT_HERSHEY_SIMPLEX, 0.6 , (0,0,0))\n",
    "            \n",
    "        \n",
    "        cv.imshow('Detector de ojos cerrados',frame)\n",
    "        \n",
    "        k = cv.waitKey(ms_to_wait) & 0xff\n",
    "        if k == ord(\"q\"):\n",
    "            break\n",
    "    else:\n",
    "        break\n",
    "cv.destroyAllWindows()\n",
    "cap.release()"
   ]
  }
 ],
 "metadata": {
  "interpreter": {
   "hash": "aa37c5c44c7a6a6b5f6683bfabc05619b0d0d92001ddf15db16a0d8d3bdba26c"
  },
  "kernelspec": {
   "display_name": "Python 3.9.6 ('UBA')",
   "language": "python",
   "name": "python3"
  },
  "language_info": {
   "codemirror_mode": {
    "name": "ipython",
    "version": 3
   },
   "file_extension": ".py",
   "mimetype": "text/x-python",
   "name": "python",
   "nbconvert_exporter": "python",
   "pygments_lexer": "ipython3",
   "version": "3.9.6"
  },
  "orig_nbformat": 4
 },
 "nbformat": 4,
 "nbformat_minor": 2
}
